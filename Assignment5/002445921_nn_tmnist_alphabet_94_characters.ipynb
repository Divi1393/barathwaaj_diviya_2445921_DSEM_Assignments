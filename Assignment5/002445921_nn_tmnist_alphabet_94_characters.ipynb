{
  "metadata": {
    "kernelspec": {
      "language": "python",
      "display_name": "Python 3",
      "name": "python3"
    },
    "language_info": {
      "name": "python",
      "version": "3.10.13",
      "mimetype": "text/x-python",
      "codemirror_mode": {
        "name": "ipython",
        "version": 3
      },
      "pygments_lexer": "ipython3",
      "nbconvert_exporter": "python",
      "file_extension": ".py"
    },
    "kaggle": {
      "accelerator": "none",
      "dataSources": [
        {
          "sourceId": 2830968,
          "sourceType": "datasetVersion",
          "datasetId": 1564532
        }
      ],
      "dockerImageVersionId": 30684,
      "isInternetEnabled": false,
      "language": "python",
      "sourceType": "notebook",
      "isGpuEnabled": false
    },
    "colab": {
      "provenance": [],
      "toc_visible": true
    }
  },
  "nbformat_minor": 0,
  "nbformat": 4,
  "cells": [
    {
      "cell_type": "markdown",
      "source": [
        "#ABSTRACT\n",
        "\n",
        "\n",
        "The Typography MNIST (TMNIST) dataset offers a collection of over 281,000 images of 94 different characters, such as letters, numbers, and symbols, displayed in various font styles. Each image is a 28x28 pixel grayscale representation of a character. This dataset is designed for machine learning tasks related to recognizing different typographic characters, making it a valuable resource for improving text recognition technologies. Its variety challenges models to identify characters across diverse styles, contributing to advancements in digital text analysis and the broader field of computational creativity."
      ],
      "metadata": {
        "id": "TSf30Ux8RnO1"
      }
    },
    {
      "cell_type": "code",
      "source": [
        "import os #use operating system dependent functionality or iterate files\n",
        "import numpy as np #scientific computing in Python, used for working with arrays\n",
        "import pandas as pd #library for data manipulation and analysis, particularly useful for working with tabular data\n",
        "from tensorflow import keras #open-source platform for machine learning that includes Keras, a high-level neural networks API\n",
        "from tensorflow.keras.models import Sequential #Components of the Keras API used to build neural network layers\n",
        "from tensorflow.keras.layers import Conv2D, MaxPooling2D, Flatten, Dense, Dropout, Input\n",
        "from tensorflow.keras.optimizers import Adam\n",
        "#optimizer from TensorFlow's Keras API, it's an extension to stochastic gradient descent that has been adopted as the default or recommended optimizer for many deep learning tasks\n",
        "from sklearn.model_selection import train_test_split\n",
        "#Functions from scikit-learn, a machine learning library for Python. These are used for splitting datasets into training and test sets and for preprocessing labels, respectively.\n",
        "from sklearn.preprocessing import LabelEncoder\n",
        "from tensorflow.keras.utils import to_categorical\n",
        "#A utility function to convert integer labels into a one-hot encoding format\n",
        "\n",
        "# List all files in the input directory\n",
        "for dirname, _, filenames in os.walk('/kaggle/input'):\n",
        "    for filename in filenames:\n",
        "        print(os.path.join(dirname, filename))\n",
        "\n",
        "# Load the dataset\n",
        "dataset_path = '/kaggle/input/tmnist-alphabet-94-characters/94_character_TMNIST.csv'  # Adjust this to your dataset's path\n",
        "df = pd.read_csv(dataset_path)\n",
        "\n",
        "# display the first 5 rows of the DataFrame:\n",
        "print(df.head())\n"
      ],
      "metadata": {
        "execution": {
          "iopub.status.busy": "2024-04-09T19:11:23.153143Z",
          "iopub.execute_input": "2024-04-09T19:11:23.153616Z",
          "iopub.status.idle": "2024-04-09T19:12:10.398972Z",
          "shell.execute_reply.started": "2024-04-09T19:11:23.153575Z",
          "shell.execute_reply": "2024-04-09T19:12:10.398087Z"
        },
        "trusted": true,
        "id": "4w4IpGP9RUR-",
        "outputId": "1d0d4e82-4f78-4215-db26-1d4e55b893be"
      },
      "execution_count": null,
      "outputs": [
        {
          "name": "stdout",
          "text": "/kaggle/input/tmnist-alphabet-94-characters/94_character_TMNIST.csv\n                  names labels    1    2    3    4    5    6    7    8  ...  \\\n0         Salsa-Regular      6  0.0  0.0  0.0  0.0  0.0  0.0  0.0  0.0  ...   \n1  MouseMemoirs-Regular      D  0.0  0.0  0.0  0.0  0.0  0.0  0.0  0.0  ...   \n2     Creepster-Regular      f  0.0  0.0  0.0  0.0  0.0  0.0  0.0  0.0  ...   \n3     SeoulNamsan-Light      /  0.0  0.0  0.0  0.0  0.0  0.0  0.0  0.0  ...   \n4  HachiMaruPop-Regular      F  0.0  0.0  0.0  0.0  0.0  0.0  0.0  0.0  ...   \n\n   775  776  777  778  779  780  781  782  783  784  \n0  0.0  0.0  0.0  0.0  0.0  0.0  0.0  0.0  0.0  0.0  \n1  0.0  0.0  0.0  0.0  0.0  0.0  0.0  0.0  0.0  0.0  \n2  0.0  0.0  0.0  0.0  0.0  0.0  0.0  0.0  0.0  0.0  \n3  0.0  0.0  0.0  0.0  0.0  0.0  0.0  0.0  0.0  0.0  \n4  0.0  0.0  0.0  0.0  0.0  0.0  0.0  0.0  0.0  0.0  \n\n[5 rows x 786 columns]\n",
          "output_type": "stream"
        }
      ]
    },
    {
      "cell_type": "markdown",
      "source": [
        "# Preprocessing\n",
        "\n",
        "\n"
      ],
      "metadata": {
        "id": "8dOdxviQUsj6"
      }
    },
    {
      "cell_type": "markdown",
      "source": [
        "#####Normalizing Pixel Values\n",
        "\n",
        "X = df.iloc[:, 2:].values.astype('float32') / 255.0\n",
        "\n",
        "This line selects all rows and columns starting from the third column to the end from a DataFrame df, which presumably contains pixel values of images.\n",
        "\n",
        "The .astype('float32') converts the data type to float32, and dividing by 255.0 normalizes the pixel values to a range between 0 and 1.\n",
        "\n",
        "Normalization is a common preprocessing step to help neural networks learn more efficiently."
      ],
      "metadata": {
        "id": "T3u1n-ehU3ZM"
      }
    },
    {
      "cell_type": "markdown",
      "source": [
        "##Extract Labels\n",
        "\n",
        "y = df.iloc[:, 1].values\n",
        "\n",
        "This line extracts the labels (or targets) for the classification from the second column of the DataFrame. These labels represent the class/category for each image."
      ],
      "metadata": {
        "id": "Dffb17L3VFRr"
      }
    },
    {
      "cell_type": "markdown",
      "source": [
        "##Encode Labels\n",
        "\n",
        "The labels are then encoded into integers using  LabelEncoder(). This is necessary because machine learning models work with numerical data, not strings or categorical labels.\n",
        "\n",
        "y_categorical = to_categorical(y_encoded)\n",
        "\n",
        "After encoding the labels into integers, to_categorical is used to convert them into one-hot encoded vectors. One-hot encoding transforms the integer-encoded labels into a binary matrix (important for multi-class classification tasks) to be used as the targets during training."
      ],
      "metadata": {
        "id": "oC938QP8VV8R"
      }
    },
    {
      "cell_type": "markdown",
      "source": [
        "##Splitting dataset\n",
        "\n",
        "X_train, X_test, y_train, y_test = train_test_split(X, y_categorical, test_size=0.2, random_state=42)\n",
        "\n",
        "This line splits the dataset into training and testing sets, with 80% of the data used for training and 20% for testing. random_state is set for reproducibility of results."
      ],
      "metadata": {
        "id": "9Cy5yd2tVjKl"
      }
    },
    {
      "cell_type": "markdown",
      "source": [
        "##Reshape Images\n",
        "\n",
        "The images are reshaped to the format (num_samples, height, width, channels), which is required by many deep learning frameworks, especially if working with convolutional neural networks (CNNs).\n",
        "\n",
        "Since the images are grayscale, the number of channels is 1.\n",
        "This is done by reshaping\n",
        "\n",
        "X_train and X_test to (-1, 28, 28, 1)\n",
        "\n",
        "X_train_reshaped = X_train.reshape(-1, 28, 28, 1)\n",
        "\n",
        "X_test_reshaped = X_test.reshape(-1, 28, 28, 1)"
      ],
      "metadata": {
        "id": "AkIb4b-ZVx6B"
      }
    },
    {
      "cell_type": "markdown",
      "source": [
        "# CNN - Concolutional Nueral Network\n",
        "\n",
        "1) A Convolutional Neural Network (CNN) is a deep learning\n",
        "algorithm primarily used for processing visual information, such as images.\n",
        "\n",
        "2) It automatically identifies important features without human supervision, making it highly effective for tasks like image classification, object detection, and more.\n",
        "\n",
        "3) Key components include convolutional layers that detect features, pooling layers that reduce image dimensionality while preserving features, and fully connected layers that interpret these features to make predictions or classifications.\n",
        "\n",
        "4) CNNs stand out for their ability to efficiently learn and predict with high accuracy from visual data, making them applicable in various fields such as facial recognition, medical image analysis, and autonomous vehicles."
      ],
      "metadata": {
        "id": "3jn9zVp3WVPL"
      }
    },
    {
      "cell_type": "markdown",
      "source": [
        "##Reshape Operation\n",
        "\n",
        "**Parameters:**\n",
        "\n",
        "-1: This value tells the reshape function to automatically calculate the size of this dimension based on the original size of the array and the other specified dimensions. It effectively means \"whatever size is needed\"\n",
        "\n",
        "28, 28: These numbers specify that each image should be reshaped to 28 pixels in height and 28 pixels in width. This matches the dimensionality of the images in the dataset (assuming they are originally flattened).\n",
        "\n",
        "1: This indicates that each image has a single color channel, i.e., the images are grayscale. Color images (like those in RGB format) would typically have 3 channels."
      ],
      "metadata": {
        "id": "koQj1Y_ZW2-p"
      }
    },
    {
      "cell_type": "markdown",
      "source": [
        "## What is happening in CNN\n",
        "\n",
        "1) Initially, X_train and X_test contain arrays of pixel values for images, presumably flattened into one-dimensional arrays per image. Given that each image is a 28x28 pixel grayscale image, each of these arrays would have 784 elements (since 28*28=784).\n",
        "\n",
        "2) The reshape operation transforms these one-dimensional arrays into four-dimensional arrays where:\n",
        "The first dimension (-1) is the number of images (automatically calculated based on the total size of the array and the size of the other dimensions). This is effectively the batch size for training or testing.\n",
        "\n",
        "3) The second and third dimensions ('28','28') represent the height and width of each image, respectively. This structure aligns with the original dimensions of the images before they were flattened, restoring them to their 2D format which is necessary for convolutional operations that leverage spatial information within the images.\n",
        "\n",
        "4) The fourth dimension (1) signifies the number of color channels. Since the images are grayscale, there is only one channel. This differs from color images, which typically have three channels (red, green, and blue)."
      ],
      "metadata": {
        "id": "lzOLkBmkXREM"
      }
    },
    {
      "cell_type": "code",
      "source": [
        "X = df.iloc[:, 2:].values.astype('float32') / 255.0  # Normalizing pixel values\n",
        "y = df.iloc[:, 1].values  # Labels\n",
        "\n",
        "# Encode labels to integers\n",
        "label_encoder = LabelEncoder()\n",
        "y_encoded = label_encoder.fit_transform(y)\n",
        "y_categorical = to_categorical(y_encoded)  # Convert to one-hot encoding\n",
        "\n",
        "X_train, X_test, y_train, y_test = train_test_split(X, y_categorical, test_size=0.2, random_state=42)\n",
        "\n",
        "# Reshape images (assuming 28x28 grayscale images)\n",
        "X_train_reshaped = X_train.reshape(-1, 28, 28, 1)\n",
        "X_test_reshaped = X_test.reshape(-1, 28, 28, 1)"
      ],
      "metadata": {
        "execution": {
          "iopub.status.busy": "2024-04-09T19:12:15.999918Z",
          "iopub.execute_input": "2024-04-09T19:12:16.000870Z",
          "iopub.status.idle": "2024-04-09T19:12:21.813451Z",
          "shell.execute_reply.started": "2024-04-09T19:12:16.000826Z",
          "shell.execute_reply": "2024-04-09T19:12:21.812001Z"
        },
        "trusted": true,
        "id": "O8sCzheyRUSB"
      },
      "execution_count": null,
      "outputs": []
    },
    {
      "cell_type": "markdown",
      "source": [
        "##Why is reshaping required\n",
        "\n",
        "This reshaping is a crucial preprocessing step for using CNNs, as these networks require input data in a format that includes dimensions for samples, height, width, and channels to effectively learn from the spatial structure of images."
      ],
      "metadata": {
        "id": "OUyOGir9Xv-Q"
      }
    },
    {
      "cell_type": "markdown",
      "source": [
        "#CNN Model Architecture\n",
        "\n",
        "**Input Layer Shape (28, 28, 1):** Defines the expected input format as 28 pixels by 28 pixels in a grayscale image (1 color channel), matching the preprocessed image dimensions.\n",
        "\n",
        "**Conv2D Layer (32 Filters, 3x3 Kernel):** Applies 32 distinct 3x3 filters to the input images to detect patterns, such as edges and textures. Uses ReLU activation to introduce non-linearity, allowing for complex pattern recognition.\n",
        "\n",
        "**MaxPooling2D Layer (2x2 Pool Size):** Reduces the spatial dimensions (height and width) of the output from the Conv2D layer, summarizing the features in a smaller map to reduce computation and prevent overfitting.\n",
        "\n",
        "**Flatten Layer:** Converts the 2D feature maps into a 1D vector, preparing the data for input into the dense layers for classification.\n",
        "\n",
        "**First Dense Layer (64 Neurons):** A fully connected layer that uses ReLU activation. It interprets the features extracted by the convolutional and pooling layers, learning non-linear combinations of these features.\n",
        "\n",
        "**Second Dense Layer (Output Layer):** Determines the model's output size based on the number of classes (from y_categorical.shape[1]). Utilizes softmax activation to calculate a probability distribution over different classes for classification."
      ],
      "metadata": {
        "id": "unsUFqUKYAO4"
      }
    },
    {
      "cell_type": "markdown",
      "source": [
        "#CNN Model Compilation\n",
        "\n",
        "**Optimizer (Adam):** Uses the Adam optimizer with a learning rate of 0.001, adjusting the model's weights based on the gradient of the loss function to minimize errors during training.\n",
        "\n",
        "**Loss Function (Categorical Crossentropy):** Suitable for multi-class classification problems where each target is represented as a one-hot encoded vector. It measures the difference between the predicted probabilities and the actual distribution.\n",
        "\n",
        "**Metrics (Accuracy):** Tracks the model's performance in correctly classifying images by comparing the predicted labels against the true labels during training and evaluation phases.\n",
        "\n"
      ],
      "metadata": {
        "id": "JFsNjt1oYhLd"
      }
    },
    {
      "cell_type": "code",
      "source": [
        "model = Sequential([\n",
        "    Input(shape=(28, 28, 1)),  # Define the input shape explicitly with an Input layer\n",
        "    Conv2D(32, (3, 3), activation='relu'),\n",
        "    MaxPooling2D((2, 2)),\n",
        "    Flatten(),\n",
        "    Dense(64, activation='relu'),\n",
        "    Dense(y_categorical.shape[1], activation='softmax')\n",
        "])\n",
        "\n",
        "# Use `learning_rate` instead of `lr`\n",
        "model.compile(optimizer=Adam(learning_rate=0.001), loss='categorical_crossentropy', metrics=['accuracy'])"
      ],
      "metadata": {
        "execution": {
          "iopub.status.busy": "2024-04-09T19:12:31.712765Z",
          "iopub.execute_input": "2024-04-09T19:12:31.713221Z",
          "iopub.status.idle": "2024-04-09T19:12:31.762693Z",
          "shell.execute_reply.started": "2024-04-09T19:12:31.713185Z",
          "shell.execute_reply": "2024-04-09T19:12:31.761429Z"
        },
        "trusted": true,
        "id": "GmCUs1b4RUSC"
      },
      "execution_count": null,
      "outputs": []
    },
    {
      "cell_type": "markdown",
      "source": [
        "##Summary\n",
        "\n",
        "This setup and compilation process prepares the CNN model for training on image data, optimizing its ability to accurately classify images into their respective categories based on learned patterns."
      ],
      "metadata": {
        "id": "OuHFE9kFYui-"
      }
    },
    {
      "cell_type": "markdown",
      "source": [
        "#Model Training\n",
        "\n",
        "**X_train_reshaped:** This is the array of training images that have been reshaped to fit the model's input requirements. These are the features the model will learn from.\n",
        "\n",
        "**y_train:** This array contains the one-hot encoded labels corresponding to the training images. These labels are what the model will predict, and they are used to calculate the loss during training.\n",
        "\n",
        "**epochs=50:** This specifies the number of times the entire training dataset will be passed through the network. An epoch is one complete presentation of the data set to be learned to a learning machine. Setting it to 50 means the learning process will iterate over the entire dataset 50 times.\n",
        "\n",
        "**validation_data=(X_test_reshaped, y_test):** This tuple contains the test dataset, also reshaped to meet the model's input requirements, and its corresponding labels. The model will not learn from this data; instead, it will be used to evaluate the model's performance after each epoch. This helps monitor the model's ability to generalize to new data and can help identify issues like overfitting."
      ],
      "metadata": {
        "id": "VIU97EPKY8I9"
      }
    },
    {
      "cell_type": "code",
      "source": [
        "history = model.fit(X_train_reshaped, y_train, epochs=50, validation_data=(X_test_reshaped, y_test))\n"
      ],
      "metadata": {
        "execution": {
          "iopub.status.busy": "2024-04-09T19:12:35.736572Z",
          "iopub.execute_input": "2024-04-09T19:12:35.737024Z",
          "iopub.status.idle": "2024-04-09T20:46:46.180813Z",
          "shell.execute_reply.started": "2024-04-09T19:12:35.736975Z",
          "shell.execute_reply": "2024-04-09T20:46:46.177353Z"
        },
        "trusted": true,
        "id": "eqqHP4YGRUSC",
        "outputId": "ceed44ea-61dc-470d-c743-f362d1c409dd"
      },
      "execution_count": null,
      "outputs": [
        {
          "name": "stdout",
          "text": "Epoch 1/50\n\u001b[1m6853/6853\u001b[0m \u001b[32m━━━━━━━━━━━━━━━━━━━━\u001b[0m\u001b[37m\u001b[0m \u001b[1m94s\u001b[0m 14ms/step - accuracy: 0.7632 - loss: 0.9276 - val_accuracy: 0.8997 - val_loss: 0.3586\nEpoch 2/50\n\u001b[1m6853/6853\u001b[0m \u001b[32m━━━━━━━━━━━━━━━━━━━━\u001b[0m\u001b[37m\u001b[0m \u001b[1m141s\u001b[0m 13ms/step - accuracy: 0.9053 - loss: 0.3189 - val_accuracy: 0.9089 - val_loss: 0.3041\nEpoch 3/50\n\u001b[1m6853/6853\u001b[0m \u001b[32m━━━━━━━━━━━━━━━━━━━━\u001b[0m\u001b[37m\u001b[0m \u001b[1m93s\u001b[0m 14ms/step - accuracy: 0.9210 - loss: 0.2566 - val_accuracy: 0.9203 - val_loss: 0.2698\nEpoch 4/50\n\u001b[1m6853/6853\u001b[0m \u001b[32m━━━━━━━━━━━━━━━━━━━━\u001b[0m\u001b[37m\u001b[0m \u001b[1m92s\u001b[0m 13ms/step - accuracy: 0.9305 - loss: 0.2207 - val_accuracy: 0.9245 - val_loss: 0.2588\nEpoch 5/50\n\u001b[1m6853/6853\u001b[0m \u001b[32m━━━━━━━━━━━━━━━━━━━━\u001b[0m\u001b[37m\u001b[0m \u001b[1m148s\u001b[0m 14ms/step - accuracy: 0.9345 - loss: 0.2003 - val_accuracy: 0.9263 - val_loss: 0.2556\nEpoch 6/50\n\u001b[1m6853/6853\u001b[0m \u001b[32m━━━━━━━━━━━━━━━━━━━━\u001b[0m\u001b[37m\u001b[0m \u001b[1m134s\u001b[0m 13ms/step - accuracy: 0.9405 - loss: 0.1779 - val_accuracy: 0.9277 - val_loss: 0.2558\nEpoch 7/50\n\u001b[1m6853/6853\u001b[0m \u001b[32m━━━━━━━━━━━━━━━━━━━━\u001b[0m\u001b[37m\u001b[0m \u001b[1m147s\u001b[0m 14ms/step - accuracy: 0.9452 - loss: 0.1637 - val_accuracy: 0.9271 - val_loss: 0.2562\nEpoch 8/50\n\u001b[1m6853/6853\u001b[0m \u001b[32m━━━━━━━━━━━━━━━━━━━━\u001b[0m\u001b[37m\u001b[0m \u001b[1m140s\u001b[0m 13ms/step - accuracy: 0.9493 - loss: 0.1491 - val_accuracy: 0.9284 - val_loss: 0.2593\nEpoch 9/50\n\u001b[1m6853/6853\u001b[0m \u001b[32m━━━━━━━━━━━━━━━━━━━━\u001b[0m\u001b[37m\u001b[0m \u001b[1m94s\u001b[0m 14ms/step - accuracy: 0.9517 - loss: 0.1396 - val_accuracy: 0.9287 - val_loss: 0.2616\nEpoch 10/50\n\u001b[1m6853/6853\u001b[0m \u001b[32m━━━━━━━━━━━━━━━━━━━━\u001b[0m\u001b[37m\u001b[0m \u001b[1m99s\u001b[0m 14ms/step - accuracy: 0.9540 - loss: 0.1331 - val_accuracy: 0.9298 - val_loss: 0.2639\nEpoch 11/50\n\u001b[1m6853/6853\u001b[0m \u001b[32m━━━━━━━━━━━━━━━━━━━━\u001b[0m\u001b[37m\u001b[0m \u001b[1m137s\u001b[0m 14ms/step - accuracy: 0.9568 - loss: 0.1238 - val_accuracy: 0.9323 - val_loss: 0.2707\nEpoch 12/50\n\u001b[1m6853/6853\u001b[0m \u001b[32m━━━━━━━━━━━━━━━━━━━━\u001b[0m\u001b[37m\u001b[0m \u001b[1m97s\u001b[0m 14ms/step - accuracy: 0.9586 - loss: 0.1170 - val_accuracy: 0.9301 - val_loss: 0.2798\nEpoch 13/50\n\u001b[1m6853/6853\u001b[0m \u001b[32m━━━━━━━━━━━━━━━━━━━━\u001b[0m\u001b[37m\u001b[0m \u001b[1m97s\u001b[0m 14ms/step - accuracy: 0.9608 - loss: 0.1095 - val_accuracy: 0.9303 - val_loss: 0.2886\nEpoch 14/50\n\u001b[1m6853/6853\u001b[0m \u001b[32m━━━━━━━━━━━━━━━━━━━━\u001b[0m\u001b[37m\u001b[0m \u001b[1m90s\u001b[0m 13ms/step - accuracy: 0.9624 - loss: 0.1062 - val_accuracy: 0.9324 - val_loss: 0.2931\nEpoch 15/50\n\u001b[1m6853/6853\u001b[0m \u001b[32m━━━━━━━━━━━━━━━━━━━━\u001b[0m\u001b[37m\u001b[0m \u001b[1m146s\u001b[0m 14ms/step - accuracy: 0.9632 - loss: 0.1025 - val_accuracy: 0.9306 - val_loss: 0.3041\nEpoch 16/50\n\u001b[1m6853/6853\u001b[0m \u001b[32m━━━━━━━━━━━━━━━━━━━━\u001b[0m\u001b[37m\u001b[0m \u001b[1m94s\u001b[0m 14ms/step - accuracy: 0.9647 - loss: 0.0972 - val_accuracy: 0.9308 - val_loss: 0.3115\nEpoch 17/50\n\u001b[1m6853/6853\u001b[0m \u001b[32m━━━━━━━━━━━━━━━━━━━━\u001b[0m\u001b[37m\u001b[0m \u001b[1m139s\u001b[0m 13ms/step - accuracy: 0.9651 - loss: 0.0960 - val_accuracy: 0.9288 - val_loss: 0.3236\nEpoch 18/50\n\u001b[1m6853/6853\u001b[0m \u001b[32m━━━━━━━━━━━━━━━━━━━━\u001b[0m\u001b[37m\u001b[0m \u001b[1m92s\u001b[0m 13ms/step - accuracy: 0.9666 - loss: 0.0899 - val_accuracy: 0.9286 - val_loss: 0.3347\nEpoch 19/50\n\u001b[1m6853/6853\u001b[0m \u001b[32m━━━━━━━━━━━━━━━━━━━━\u001b[0m\u001b[37m\u001b[0m \u001b[1m141s\u001b[0m 13ms/step - accuracy: 0.9680 - loss: 0.0879 - val_accuracy: 0.9302 - val_loss: 0.3334\nEpoch 20/50\n\u001b[1m6853/6853\u001b[0m \u001b[32m━━━━━━━━━━━━━━━━━━━━\u001b[0m\u001b[37m\u001b[0m \u001b[1m94s\u001b[0m 14ms/step - accuracy: 0.9684 - loss: 0.0850 - val_accuracy: 0.9279 - val_loss: 0.3604\nEpoch 21/50\n\u001b[1m6853/6853\u001b[0m \u001b[32m━━━━━━━━━━━━━━━━━━━━\u001b[0m\u001b[37m\u001b[0m \u001b[1m90s\u001b[0m 13ms/step - accuracy: 0.9694 - loss: 0.0843 - val_accuracy: 0.9282 - val_loss: 0.3615\nEpoch 22/50\n\u001b[1m6853/6853\u001b[0m \u001b[32m━━━━━━━━━━━━━━━━━━━━\u001b[0m\u001b[37m\u001b[0m \u001b[1m91s\u001b[0m 13ms/step - accuracy: 0.9701 - loss: 0.0811 - val_accuracy: 0.9292 - val_loss: 0.3642\nEpoch 23/50\n\u001b[1m6853/6853\u001b[0m \u001b[32m━━━━━━━━━━━━━━━━━━━━\u001b[0m\u001b[37m\u001b[0m \u001b[1m92s\u001b[0m 13ms/step - accuracy: 0.9699 - loss: 0.0820 - val_accuracy: 0.9295 - val_loss: 0.3745\nEpoch 24/50\n\u001b[1m6853/6853\u001b[0m \u001b[32m━━━━━━━━━━━━━━━━━━━━\u001b[0m\u001b[37m\u001b[0m \u001b[1m96s\u001b[0m 14ms/step - accuracy: 0.9715 - loss: 0.0781 - val_accuracy: 0.9286 - val_loss: 0.3867\nEpoch 25/50\n\u001b[1m6853/6853\u001b[0m \u001b[32m━━━━━━━━━━━━━━━━━━━━\u001b[0m\u001b[37m\u001b[0m \u001b[1m139s\u001b[0m 14ms/step - accuracy: 0.9718 - loss: 0.0759 - val_accuracy: 0.9281 - val_loss: 0.3934\nEpoch 26/50\n\u001b[1m6853/6853\u001b[0m \u001b[32m━━━━━━━━━━━━━━━━━━━━\u001b[0m\u001b[37m\u001b[0m \u001b[1m144s\u001b[0m 14ms/step - accuracy: 0.9726 - loss: 0.0743 - val_accuracy: 0.9294 - val_loss: 0.4016\nEpoch 27/50\n\u001b[1m6853/6853\u001b[0m \u001b[32m━━━━━━━━━━━━━━━━━━━━\u001b[0m\u001b[37m\u001b[0m \u001b[1m97s\u001b[0m 14ms/step - accuracy: 0.9731 - loss: 0.0734 - val_accuracy: 0.9278 - val_loss: 0.4102\nEpoch 28/50\n\u001b[1m6853/6853\u001b[0m \u001b[32m━━━━━━━━━━━━━━━━━━━━\u001b[0m\u001b[37m\u001b[0m \u001b[1m142s\u001b[0m 14ms/step - accuracy: 0.9740 - loss: 0.0705 - val_accuracy: 0.9285 - val_loss: 0.4125\nEpoch 29/50\n\u001b[1m6853/6853\u001b[0m \u001b[32m━━━━━━━━━━━━━━━━━━━━\u001b[0m\u001b[37m\u001b[0m \u001b[1m95s\u001b[0m 14ms/step - accuracy: 0.9744 - loss: 0.0697 - val_accuracy: 0.9277 - val_loss: 0.4214\nEpoch 30/50\n\u001b[1m6853/6853\u001b[0m \u001b[32m━━━━━━━━━━━━━━━━━━━━\u001b[0m\u001b[37m\u001b[0m \u001b[1m92s\u001b[0m 13ms/step - accuracy: 0.9752 - loss: 0.0689 - val_accuracy: 0.9298 - val_loss: 0.4191\nEpoch 31/50\n\u001b[1m6853/6853\u001b[0m \u001b[32m━━━━━━━━━━━━━━━━━━━━\u001b[0m\u001b[37m\u001b[0m \u001b[1m94s\u001b[0m 14ms/step - accuracy: 0.9761 - loss: 0.0657 - val_accuracy: 0.9280 - val_loss: 0.4427\nEpoch 32/50\n\u001b[1m6853/6853\u001b[0m \u001b[32m━━━━━━━━━━━━━━━━━━━━\u001b[0m\u001b[37m\u001b[0m \u001b[1m145s\u001b[0m 14ms/step - accuracy: 0.9756 - loss: 0.0656 - val_accuracy: 0.9286 - val_loss: 0.4530\nEpoch 33/50\n\u001b[1m6853/6853\u001b[0m \u001b[32m━━━━━━━━━━━━━━━━━━━━\u001b[0m\u001b[37m\u001b[0m \u001b[1m136s\u001b[0m 13ms/step - accuracy: 0.9760 - loss: 0.0654 - val_accuracy: 0.9288 - val_loss: 0.4512\nEpoch 34/50\n\u001b[1m6853/6853\u001b[0m \u001b[32m━━━━━━━━━━━━━━━━━━━━\u001b[0m\u001b[37m\u001b[0m \u001b[1m98s\u001b[0m 14ms/step - accuracy: 0.9760 - loss: 0.0641 - val_accuracy: 0.9288 - val_loss: 0.4634\nEpoch 35/50\n\u001b[1m6853/6853\u001b[0m \u001b[32m━━━━━━━━━━━━━━━━━━━━\u001b[0m\u001b[37m\u001b[0m \u001b[1m96s\u001b[0m 14ms/step - accuracy: 0.9770 - loss: 0.0617 - val_accuracy: 0.9280 - val_loss: 0.4643\nEpoch 36/50\n\u001b[1m6853/6853\u001b[0m \u001b[32m━━━━━━━━━━━━━━━━━━━━\u001b[0m\u001b[37m\u001b[0m \u001b[1m96s\u001b[0m 14ms/step - accuracy: 0.9771 - loss: 0.0615 - val_accuracy: 0.9276 - val_loss: 0.4799\nEpoch 37/50\n\u001b[1m6853/6853\u001b[0m \u001b[32m━━━━━━━━━━━━━━━━━━━━\u001b[0m\u001b[37m\u001b[0m \u001b[1m98s\u001b[0m 14ms/step - accuracy: 0.9774 - loss: 0.0609 - val_accuracy: 0.9290 - val_loss: 0.4827\nEpoch 38/50\n\u001b[1m6853/6853\u001b[0m \u001b[32m━━━━━━━━━━━━━━━━━━━━\u001b[0m\u001b[37m\u001b[0m \u001b[1m96s\u001b[0m 14ms/step - accuracy: 0.9772 - loss: 0.0610 - val_accuracy: 0.9286 - val_loss: 0.4990\nEpoch 39/50\n\u001b[1m6853/6853\u001b[0m \u001b[32m━━━━━━━━━━━━━━━━━━━━\u001b[0m\u001b[37m\u001b[0m \u001b[1m94s\u001b[0m 14ms/step - accuracy: 0.9776 - loss: 0.0602 - val_accuracy: 0.9272 - val_loss: 0.5050\nEpoch 40/50\n\u001b[1m6853/6853\u001b[0m \u001b[32m━━━━━━━━━━━━━━━━━━━━\u001b[0m\u001b[37m\u001b[0m \u001b[1m138s\u001b[0m 13ms/step - accuracy: 0.9780 - loss: 0.0590 - val_accuracy: 0.9242 - val_loss: 0.5125\nEpoch 41/50\n\u001b[1m6853/6853\u001b[0m \u001b[32m━━━━━━━━━━━━━━━━━━━━\u001b[0m\u001b[37m\u001b[0m \u001b[1m143s\u001b[0m 13ms/step - accuracy: 0.9779 - loss: 0.0584 - val_accuracy: 0.9282 - val_loss: 0.5129\nEpoch 42/50\n\u001b[1m6853/6853\u001b[0m \u001b[32m━━━━━━━━━━━━━━━━━━━━\u001b[0m\u001b[37m\u001b[0m \u001b[1m92s\u001b[0m 13ms/step - accuracy: 0.9787 - loss: 0.0569 - val_accuracy: 0.9291 - val_loss: 0.5266\nEpoch 43/50\n\u001b[1m6853/6853\u001b[0m \u001b[32m━━━━━━━━━━━━━━━━━━━━\u001b[0m\u001b[37m\u001b[0m \u001b[1m94s\u001b[0m 14ms/step - accuracy: 0.9783 - loss: 0.0574 - val_accuracy: 0.9253 - val_loss: 0.5305\nEpoch 44/50\n\u001b[1m6853/6853\u001b[0m \u001b[32m━━━━━━━━━━━━━━━━━━━━\u001b[0m\u001b[37m\u001b[0m \u001b[1m91s\u001b[0m 13ms/step - accuracy: 0.9804 - loss: 0.0537 - val_accuracy: 0.9275 - val_loss: 0.5261\nEpoch 45/50\n\u001b[1m6853/6853\u001b[0m \u001b[32m━━━━━━━━━━━━━━━━━━━━\u001b[0m\u001b[37m\u001b[0m \u001b[1m143s\u001b[0m 13ms/step - accuracy: 0.9801 - loss: 0.0542 - val_accuracy: 0.9273 - val_loss: 0.5598\nEpoch 46/50\n\u001b[1m6853/6853\u001b[0m \u001b[32m━━━━━━━━━━━━━━━━━━━━\u001b[0m\u001b[37m\u001b[0m \u001b[1m91s\u001b[0m 13ms/step - accuracy: 0.9800 - loss: 0.0542 - val_accuracy: 0.9275 - val_loss: 0.5529\nEpoch 47/50\n\u001b[1m6853/6853\u001b[0m \u001b[32m━━━━━━━━━━━━━━━━━━━━\u001b[0m\u001b[37m\u001b[0m \u001b[1m141s\u001b[0m 13ms/step - accuracy: 0.9804 - loss: 0.0540 - val_accuracy: 0.9280 - val_loss: 0.5416\nEpoch 48/50\n\u001b[1m6853/6853\u001b[0m \u001b[32m━━━━━━━━━━━━━━━━━━━━\u001b[0m\u001b[37m\u001b[0m \u001b[1m91s\u001b[0m 13ms/step - accuracy: 0.9810 - loss: 0.0515 - val_accuracy: 0.9273 - val_loss: 0.5561\nEpoch 49/50\n\u001b[1m6853/6853\u001b[0m \u001b[32m━━━━━━━━━━━━━━━━━━━━\u001b[0m\u001b[37m\u001b[0m \u001b[1m93s\u001b[0m 14ms/step - accuracy: 0.9804 - loss: 0.0536 - val_accuracy: 0.9278 - val_loss: 0.5653\nEpoch 50/50\n\u001b[1m6853/6853\u001b[0m \u001b[32m━━━━━━━━━━━━━━━━━━━━\u001b[0m\u001b[37m\u001b[0m \u001b[1m143s\u001b[0m 14ms/step - accuracy: 0.9801 - loss: 0.0537 - val_accuracy: 0.9279 - val_loss: 0.5759\n",
          "output_type": "stream"
        }
      ]
    },
    {
      "cell_type": "markdown",
      "source": [
        "##Summary of the Training Process\n",
        "\n",
        "The model learns to classify images by adjusting its weights based on the X_train_reshaped features and y_train labels across 50 iterations (epochs).\n",
        "\n",
        "After each epoch, the model is evaluated on the X_test_reshaped and y_test validation dataset to monitor its performance on data it hasn't learned from. This evaluation gives insights into how well the model is generalizing.\n",
        "\n",
        "Throughout the training and validation process, performance metrics such as loss and accuracy are calculated. These metrics are crucial for understanding how well the model is doing and making adjustments if necessary.\n",
        "\n",
        "The process repeats for the specified number of epochs, allowing the model to improve its weights iteratively based on the feedback from the training loss and validation metrics.\n",
        "\n",
        "This training approach helps in developing a model that not only performs well on the training data but also generalizes well to new, unseen data."
      ],
      "metadata": {
        "id": "4JfRlnaiZWtZ"
      }
    },
    {
      "cell_type": "code",
      "source": [
        "test_loss, test_accuracy = model.evaluate(X_test_reshaped, y_test)\n",
        "print(f\"Test accuracy: {test_accuracy * 100:.2f}%\")"
      ],
      "metadata": {
        "execution": {
          "iopub.status.busy": "2024-04-09T20:48:29.485841Z",
          "iopub.execute_input": "2024-04-09T20:48:29.486575Z",
          "iopub.status.idle": "2024-04-09T20:48:38.183124Z",
          "shell.execute_reply.started": "2024-04-09T20:48:29.486494Z",
          "shell.execute_reply": "2024-04-09T20:48:38.181707Z"
        },
        "trusted": true,
        "id": "l3R_IQXURUSD",
        "outputId": "974337b6-847e-4160-c0fa-ec0d5bd14af3"
      },
      "execution_count": null,
      "outputs": [
        {
          "name": "stdout",
          "text": "\u001b[1m1714/1714\u001b[0m \u001b[32m━━━━━━━━━━━━━━━━━━━━\u001b[0m\u001b[37m\u001b[0m \u001b[1m8s\u001b[0m 5ms/step - accuracy: 0.9278 - loss: 0.5576\nTest accuracy: 92.79%\n",
          "output_type": "stream"
        }
      ]
    },
    {
      "cell_type": "markdown",
      "source": [
        "##Summary of model performance on Test Data\n",
        "\n",
        "After training the CNN model on the training data and validating its performance on the validation data, this step is crucial for assessing how well the model can generalize to new, unseen data. The test dataset was not used during the training process, making it a good indicator of the model's real-world performance. The test accuracy gives a straightforward metric to gauge the effectiveness of the model in classifying images according to the learned patterns and features. A high accuracy on the test set suggests that the model is well-tuned and has learned generalizable features, while a low accuracy might indicate overfitting to the training data or underfitting."
      ],
      "metadata": {
        "id": "qkC9x0nPduTK"
      }
    },
    {
      "cell_type": "markdown",
      "source": [
        "##Model Visualisation on Predicted Cases\n",
        "\n",
        "Make Predictions: The model predicts the class probabilities for the reshaped test dataset X_test_reshaped.\n",
        "\n",
        "Classify Predictions: It converts these probabilities to class indices (the class with the highest probability) using np.argmax(predictions, axis=1) for predicted classes, and similarly for true classes from y_test.\n",
        "\n",
        "Identify Correct Predictions: The code identifies the indices where the predicted classes match the true classes, indicating correct predictions.\n",
        "\n",
        "Shuffle for Randomness: The correct prediction indices are shuffled to randomize the images selected for display. This step ensures variety in the images shown.\n",
        "\n",
        "Plotting Setup: A figure with 3 rows and 4 columns of subplots is created, setting the figure size to 10 by 10 inches, intending to display 12 images.\n",
        "\n",
        "Display Correct Predictions: For the first 12 shuffled, correctly predicted images, each is reshaped back to its original 28x28 pixel format and displayed in its respective subplot. Each subplot is titled with the predicted and true class indices to indicate what the model predicted versus the actual label. The images are displayed in grayscale (cmap=\"Greys\"), and the axes are turned off for a cleaner look.\n",
        "\n",
        "Presentation: The layout is adjusted for tight spacing to avoid overlapping content, and the plot is displayed with plt.show()"
      ],
      "metadata": {
        "id": "uO9CGOO3d9Zt"
      }
    },
    {
      "cell_type": "code",
      "source": [
        "import matplotlib.pyplot as plt\n",
        "from sklearn.utils import shuffle\n",
        "\n",
        "# Make predictions on the test set (reshaped and possibly preprocessed)\n",
        "predictions = model.predict(X_test_reshaped)\n",
        "\n",
        "# Convert predictions to class indices\n",
        "predicted_classes = np.argmax(predictions, axis=1)\n",
        "true_classes = np.argmax(y_test, axis=1)\n",
        "\n",
        "# Find indices of correct predictions\n",
        "correct_indices = np.where(predicted_classes == true_classes)[0]\n",
        "\n",
        "# Shuffle correct indices for randomness\n",
        "np.random.shuffle(correct_indices)\n",
        "\n",
        "# Create a figure with 3x4 subplots and set the figure size\n",
        "fig, ax = plt.subplots(3, 4, figsize=(10, 10))\n",
        "axes = ax.flatten()\n",
        "\n",
        "# Display the first 12 correctly predicted images\n",
        "for i, idx in enumerate(correct_indices[:12]):\n",
        "    img = np.reshape(X_test[idx], (28, 28))  # Assuming X_test needs reshaping\n",
        "    axes[i].imshow(img, cmap=\"Greys\")\n",
        "    axes[i].set_title(f\"Pred: {predicted_classes[idx]}, True: {true_classes[idx]}\")\n",
        "    axes[i].axis('off')\n",
        "\n",
        "plt.tight_layout()\n",
        "plt.show()\n"
      ],
      "metadata": {
        "execution": {
          "iopub.status.busy": "2024-04-09T20:49:39.681081Z",
          "iopub.execute_input": "2024-04-09T20:49:39.681523Z",
          "iopub.status.idle": "2024-04-09T20:49:49.094738Z",
          "shell.execute_reply.started": "2024-04-09T20:49:39.681492Z",
          "shell.execute_reply": "2024-04-09T20:49:49.093460Z"
        },
        "trusted": true,
        "id": "wvnEJtxlRUSD",
        "outputId": "5ec11af3-31a7-4656-a0e4-565669d59d8d"
      },
      "execution_count": null,
      "outputs": [
        {
          "name": "stdout",
          "text": "\u001b[1m1714/1714\u001b[0m \u001b[32m━━━━━━━━━━━━━━━━━━━━\u001b[0m\u001b[37m\u001b[0m \u001b[1m7s\u001b[0m 4ms/step\n",
          "output_type": "stream"
        },
        {
          "output_type": "display_data",
          "data": {
            "text/plain": "<Figure size 1000x1000 with 12 Axes>",
            "image/png": "[encoded data removed]"
          },
          "metadata": {}
        }
      ]
    },
    {
      "cell_type": "markdown",
      "source": [
        "The code visually demonstrates the model's accuracy by showcasing a sample of correctly predicted images from the test dataset. It provides an intuitive and direct way to assess the model's performance, highlighting the predictions that match the true labels. This visualization can be particularly useful for understanding the model's capabilities and identifying patterns or characteristics that the model has learned effectively."
      ],
      "metadata": {
        "id": "PuExssslepHU"
      }
    },
    {
      "cell_type": "markdown",
      "source": [
        "#CONCLUSION\n",
        "\n",
        "**Quantitative Evaluation:**\n",
        "Test Accuracy: High accuracy on the test set indicates that the model has successfully learned generalizable features from the training data and can effectively apply these learnings to correctly classify images it has not seen before. This is a crucial metric for assessing the model's real-world applicability.\n",
        "\n",
        "**Overfitting vs. Underfitting:** The performance on the test data helps identify whether the model is overfitting (performing well on training data but poorly on test data) or underfitting (performing poorly across both training and test data), guiding further model tuning and adjustments.\n",
        "\n",
        "**Qualitative Evaluation:**\n",
        "Visual Inspection: By visually inspecting correctly predicted images from the test dataset, researchers and practitioners can gain insights into what the model is \"seeing\" and how it's making decisions. This can help in understanding the strengths and weaknesses of the model.\n",
        "\n",
        "**Model Trustworthiness:** Displaying a selection of correctly classified images alongside their predicted and true labels builds confidence in the model's predictions and can help stakeholders understand and trust the model's capabilities.\n",
        "\n",
        "**Conclusion Summary:**\n",
        "Evaluating a CNN model on unseen test data and visualizing its correct predictions offers a holistic view of the model's performance. The test accuracy metric provides a quantitative measure of how well the model generalizes, which is crucial for practical applications.\n",
        "\n",
        "Meanwhile, visualizing the model's correct predictions offers qualitative insights into the model's classification abilities, reinforcing trust in its capabilities. Together, these evaluation methods ensure that the model is not only statistically sound but also practically effective in real-world scenarios.\n",
        "\n",
        "For models that exhibit high accuracy and demonstrate a robust understanding of the features across a variety of images, this process underscores the model's readiness for deployment in similar tasks. Conversely, if gaps in performance are identified, this comprehensive evaluation can guide further refinement and optimization of the model.\n",
        "\n"
      ],
      "metadata": {
        "id": "cvdOf6l9CrGY"
      }
    }
  ]
}